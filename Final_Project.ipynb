{
 "cells": [
  {
   "cell_type": "code",
   "execution_count": null,
   "metadata": {},
   "outputs": [],
   "source": [
    "import pandas as pd\n",
    "import yfinance as yf\n",
    "import datetime as dt\n",
    "import numpy as np\n",
    "import matplotlib.pyplot as plt\n",
    "import seaborn as sns\n",
    "import scipy.optimize as sco\n",
    "import math"
   ]
  },
  {
   "cell_type": "code",
   "execution_count": 10,
   "metadata": {},
   "outputs": [
    {
     "name": "stderr",
     "output_type": "stream",
     "text": [
      "[*********************100%***********************]  1 of 1 completed"
     ]
    },
    {
     "name": "stdout",
     "output_type": "stream",
     "text": [
      "                  Open        High         Low       Close   Adj Close  \\\n",
      "Date                                                                     \n",
      "2019-12-16  319.220001  320.149994  317.250000  319.500000  295.759094   \n",
      "2019-12-17  319.920013  320.250000  319.480011  319.570007  295.824005   \n",
      "2019-12-18  320.000000  320.250000  319.529999  319.589996  295.842468   \n",
      "2019-12-19  319.799988  320.980011  319.519989  320.899994  297.055054   \n",
      "2019-12-20  320.459991  321.970001  319.390015  320.730011  298.357483   \n",
      "\n",
      "               Volume  \n",
      "Date                   \n",
      "2019-12-16   82749700  \n",
      "2019-12-17   61097700  \n",
      "2019-12-18   48133000  \n",
      "2019-12-19   85310500  \n",
      "2019-12-20  147142100  \n"
     ]
    },
    {
     "name": "stderr",
     "output_type": "stream",
     "text": [
      "\n"
     ]
    }
   ],
   "source": [
    "import yfinance as yf\n",
    "import datetime as dt \n",
    "\n",
    "ticker = 'SPY'\n",
    "end_date = dt.datetime.today()\n",
    "start_date = end_date - dt.timedelta(365*5)\n",
    "etf_data = yf.download(ticker, start=start_date, end=end_date)\n",
    "print(etf_data.head())"
   ]
  },
  {
   "cell_type": "code",
   "execution_count": 25,
   "metadata": {},
   "outputs": [
    {
     "ename": "NameError",
     "evalue": "name 'momentum_df' is not defined",
     "output_type": "error",
     "traceback": [
      "\u001b[0;31m---------------------------------------------------------------------------\u001b[0m",
      "\u001b[0;31mNameError\u001b[0m                                 Traceback (most recent call last)",
      "Cell \u001b[0;32mIn[25], line 12\u001b[0m\n\u001b[1;32m     10\u001b[0m \u001b[38;5;28;01mdef\u001b[39;00m \u001b[38;5;21mz_score\u001b[39m(x):\n\u001b[1;32m     11\u001b[0m     \u001b[38;5;28;01mreturn\u001b[39;00m (x \u001b[38;5;241m-\u001b[39m x\u001b[38;5;241m.\u001b[39mmean()) \u001b[38;5;241m/\u001b[39m x\u001b[38;5;241m.\u001b[39mstd()\n\u001b[0;32m---> 12\u001b[0m z_factor_scores \u001b[38;5;241m=\u001b[39m (momentum_df\u001b[38;5;241m.\u001b[39mmean() \u001b[38;5;241m-\u001b[39m momentum_df\u001b[38;5;241m.\u001b[39mmean()) \u001b[38;5;241m/\u001b[39m momentum_df\u001b[38;5;241m.\u001b[39mstd()\n\u001b[1;32m     14\u001b[0m \u001b[38;5;28mprint\u001b[39m(z_factor_scores)\n",
      "\u001b[0;31mNameError\u001b[0m: name 'momentum_df' is not defined"
     ]
    }
   ],
   "source": [
    "etf_data['Momentum'] = etf_data['Adj Close'].pct_change(periods=30)\n",
    "last_momentum = etf_data['Momentum'].iloc[-1]\n",
    "\n",
    "price_now = etf_data['Adj Close'].iloc[-1]  \n",
    "price_126_days_ago = etf_data['Adj Close'].iloc[-126] \n",
    "\n",
    "def calculate_momentum(prices, window):\n",
    "    return (prices['Close'].pct_change(periods=window))\n",
    "\n",
    "def z_score(x):\n",
    "    return (x - x.mean()) / x.std()\n",
    "z_factor_scores = (momentum_df.mean() - momentum_df.mean()) / momentum_df.std()\n",
    "\n",
    "print(z_factor_scores)\n"
   ]
  }
 ],
 "metadata": {
  "kernelspec": {
   "display_name": "base",
   "language": "python",
   "name": "python3"
  },
  "language_info": {
   "codemirror_mode": {
    "name": "ipython",
    "version": 3
   },
   "file_extension": ".py",
   "mimetype": "text/x-python",
   "name": "python",
   "nbconvert_exporter": "python",
   "pygments_lexer": "ipython3",
   "version": "3.12.4"
  }
 },
 "nbformat": 4,
 "nbformat_minor": 2
}

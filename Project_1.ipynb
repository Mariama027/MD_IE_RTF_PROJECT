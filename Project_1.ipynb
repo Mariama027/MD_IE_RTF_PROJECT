{
 "cells": [
  {
   "cell_type": "code",
   "execution_count": 11,
   "metadata": {},
   "outputs": [],
   "source": [
    "import pandas as pd\n",
    "import yfinance as yf \n",
    "import datetime as dt\n",
    "import numpy as np\n",
    "import statsmodels.api as sm\n",
    "import matplotlib.pyplot as plt\n",
    "import seaborn as sns"
   ]
  },
  {
   "cell_type": "code",
   "execution_count": 2,
   "metadata": {},
   "outputs": [],
   "source": [
    "#Tickers, weight of stocks, Start to end Date\n",
    "assets= ['msft', 'tsla', 'k']\n",
    "benchmarks = ['spy','iwm','dia']\n",
    "\n",
    "weight_of_stocks = [1, 1, 1]\n",
    "\n",
    "start = '2019-09-18'\n",
    "end = '2024-09-01'"
   ]
  },
  {
   "cell_type": "code",
   "execution_count": 3,
   "metadata": {},
   "outputs": [
    {
     "name": "stderr",
     "output_type": "stream",
     "text": [
      "[*********************100%***********************]  6 of 6 completed\n"
     ]
    }
   ],
   "source": [
    "benchmarks = [asset.upper() for asset in benchmarks]\n",
    "assets = [asset.upper() for asset in assets]\n",
    "\n",
    "tickers = assets + benchmarks\n",
    "\n",
    "#un-hashtag the code below, it is in hash for testing purposes\n",
    "#data = yf.download(tickers, start=start, end=end )['Adj Close']\n",
    "data = yf.download(tickers, start=start)['Adj Close']\n",
    "\n",
    "num_stock = len(assets)\n",
    "total_weight = sum(weight_of_stocks)\n",
    "percent_weight = [w / total_weight for w in weight_of_stocks]"
   ]
  },
  {
   "cell_type": "code",
   "execution_count": 4,
   "metadata": {},
   "outputs": [],
   "source": [
    "daily_returns = data.pct_change().dropna().mean()\n",
    "#{num_trading_days insid of annualized returns is rounded \n",
    "# down one to accomodate function} also check if you have to use 252/63\n",
    "annual_returns = data.pct_change(252).dropna().mean()\n",
    "annual_std = data.pct_change(252).dropna().std()\n",
    "annual_vol = data.pct_change(63).dropna().std() * np.sqrt(252/63)"
   ]
  },
  {
   "cell_type": "code",
   "execution_count": 5,
   "metadata": {},
   "outputs": [],
   "source": [
    "def calc_beta(asset_returns, benchmark_returns):\n",
    "    X = sm.add_constant(benchmark_returns)\n",
    "    model = sm.OLS(asset_returns, X).fit()\n",
    "    return model.params[1]\n"
   ]
  },
  {
   "cell_type": "code",
   "execution_count": 6,
   "metadata": {},
   "outputs": [],
   "source": [
    "weekly_high= data.rolling(window=52).max()\n",
    "weekly_low= data.rolling(window=52).min()\n",
    "weekly_drawdown= (weekly_low-weekly_high)/weekly_high\n",
    "avg_weekly_drawdown = weekly_drawdown.rolling(window=52).mean()\n",
    "max_weekly_drawdown = weekly_drawdown.rolling(window=52).min()\n",
    "\n",
    "avg_weekly_drawdown=avg_weekly_drawdown[assets].mean()\n",
    "max_weekly_drawdown=max_weekly_drawdown[assets].max()"
   ]
  },
  {
   "cell_type": "code",
   "execution_count": 7,
   "metadata": {},
   "outputs": [
    {
     "name": "stderr",
     "output_type": "stream",
     "text": [
      "/var/folders/qs/c8khbpsj6mz0700tf80pw_hr0000gn/T/ipykernel_2380/3582574454.py:4: FutureWarning: Series.__getitem__ treating keys as positions is deprecated. In a future version, integer keys will always be treated as labels (consistent with DataFrame behavior). To access a value by position, use `ser.iloc[pos]`\n",
      "  return model.params[1]\n",
      "/var/folders/qs/c8khbpsj6mz0700tf80pw_hr0000gn/T/ipykernel_2380/3582574454.py:4: FutureWarning: Series.__getitem__ treating keys as positions is deprecated. In a future version, integer keys will always be treated as labels (consistent with DataFrame behavior). To access a value by position, use `ser.iloc[pos]`\n",
      "  return model.params[1]\n",
      "/var/folders/qs/c8khbpsj6mz0700tf80pw_hr0000gn/T/ipykernel_2380/3582574454.py:4: FutureWarning: Series.__getitem__ treating keys as positions is deprecated. In a future version, integer keys will always be treated as labels (consistent with DataFrame behavior). To access a value by position, use `ser.iloc[pos]`\n",
      "  return model.params[1]\n",
      "/var/folders/qs/c8khbpsj6mz0700tf80pw_hr0000gn/T/ipykernel_2380/3582574454.py:4: FutureWarning: Series.__getitem__ treating keys as positions is deprecated. In a future version, integer keys will always be treated as labels (consistent with DataFrame behavior). To access a value by position, use `ser.iloc[pos]`\n",
      "  return model.params[1]\n",
      "/var/folders/qs/c8khbpsj6mz0700tf80pw_hr0000gn/T/ipykernel_2380/3582574454.py:4: FutureWarning: Series.__getitem__ treating keys as positions is deprecated. In a future version, integer keys will always be treated as labels (consistent with DataFrame behavior). To access a value by position, use `ser.iloc[pos]`\n",
      "  return model.params[1]\n",
      "/var/folders/qs/c8khbpsj6mz0700tf80pw_hr0000gn/T/ipykernel_2380/3582574454.py:4: FutureWarning: Series.__getitem__ treating keys as positions is deprecated. In a future version, integer keys will always be treated as labels (consistent with DataFrame behavior). To access a value by position, use `ser.iloc[pos]`\n",
      "  return model.params[1]\n",
      "/var/folders/qs/c8khbpsj6mz0700tf80pw_hr0000gn/T/ipykernel_2380/3582574454.py:4: FutureWarning: Series.__getitem__ treating keys as positions is deprecated. In a future version, integer keys will always be treated as labels (consistent with DataFrame behavior). To access a value by position, use `ser.iloc[pos]`\n",
      "  return model.params[1]\n",
      "/var/folders/qs/c8khbpsj6mz0700tf80pw_hr0000gn/T/ipykernel_2380/3582574454.py:4: FutureWarning: Series.__getitem__ treating keys as positions is deprecated. In a future version, integer keys will always be treated as labels (consistent with DataFrame behavior). To access a value by position, use `ser.iloc[pos]`\n",
      "  return model.params[1]\n",
      "/var/folders/qs/c8khbpsj6mz0700tf80pw_hr0000gn/T/ipykernel_2380/3582574454.py:4: FutureWarning: Series.__getitem__ treating keys as positions is deprecated. In a future version, integer keys will always be treated as labels (consistent with DataFrame behavior). To access a value by position, use `ser.iloc[pos]`\n",
      "  return model.params[1]\n"
     ]
    },
    {
     "data": {
      "text/html": [
       "<div>\n",
       "<style scoped>\n",
       "    .dataframe tbody tr th:only-of-type {\n",
       "        vertical-align: middle;\n",
       "    }\n",
       "\n",
       "    .dataframe tbody tr th {\n",
       "        vertical-align: top;\n",
       "    }\n",
       "\n",
       "    .dataframe thead th {\n",
       "        text-align: right;\n",
       "    }\n",
       "</style>\n",
       "<table border=\"1\" class=\"dataframe\">\n",
       "  <thead>\n",
       "    <tr style=\"text-align: right;\">\n",
       "      <th></th>\n",
       "      <th>Ticker</th>\n",
       "      <th>Portfolio Weight</th>\n",
       "      <th>Annual Vol.</th>\n",
       "      <th>Beta against SPY</th>\n",
       "      <th>Beta against IWM</th>\n",
       "      <th>Beta against DIA</th>\n",
       "      <th>Avg Weekly Drawdown</th>\n",
       "      <th>Max Weekly Drawdown</th>\n",
       "    </tr>\n",
       "  </thead>\n",
       "  <tbody>\n",
       "    <tr>\n",
       "      <th>1</th>\n",
       "      <td>MSFT</td>\n",
       "      <td>0.333333</td>\n",
       "      <td>0.224636</td>\n",
       "      <td>1.190433</td>\n",
       "      <td>0.654464</td>\n",
       "      <td>1.049840</td>\n",
       "      <td>-0.151279</td>\n",
       "      <td>-0.097303</td>\n",
       "    </tr>\n",
       "    <tr>\n",
       "      <th>2</th>\n",
       "      <td>TSLA</td>\n",
       "      <td>0.333333</td>\n",
       "      <td>0.905434</td>\n",
       "      <td>1.594205</td>\n",
       "      <td>1.165100</td>\n",
       "      <td>1.282270</td>\n",
       "      <td>-0.358067</td>\n",
       "      <td>-0.206867</td>\n",
       "    </tr>\n",
       "    <tr>\n",
       "      <th>3</th>\n",
       "      <td>K</td>\n",
       "      <td>0.333333</td>\n",
       "      <td>0.214932</td>\n",
       "      <td>0.296220</td>\n",
       "      <td>0.142470</td>\n",
       "      <td>0.363281</td>\n",
       "      <td>-0.117177</td>\n",
       "      <td>-0.074190</td>\n",
       "    </tr>\n",
       "  </tbody>\n",
       "</table>\n",
       "</div>"
      ],
      "text/plain": [
       "  Ticker  Portfolio Weight  Annual Vol.  Beta against SPY  Beta against IWM  \\\n",
       "1   MSFT          0.333333     0.224636          1.190433          0.654464   \n",
       "2   TSLA          0.333333     0.905434          1.594205          1.165100   \n",
       "3      K          0.333333     0.214932          0.296220          0.142470   \n",
       "\n",
       "   Beta against DIA  Avg Weekly Drawdown  Max Weekly Drawdown  \n",
       "1          1.049840            -0.151279            -0.097303  \n",
       "2          1.282270            -0.358067            -0.206867  \n",
       "3          0.363281            -0.117177            -0.074190  "
      ]
     },
     "execution_count": 7,
     "metadata": {},
     "output_type": "execute_result"
    }
   ],
   "source": [
    "portfolio_df = pd.DataFrame({\n",
    "    'Ticker': assets,\n",
    "    'Portfolio Weight': percent_weight,\n",
    "    #'Annualized Std': annual_std[assets],\n",
    "    #'Annualized Returns': annual_returns[assets],\n",
    "    'Annual Vol.': annual_vol[assets],\n",
    "    #'Portfolio Return': annual_returns[assets]* percent_weight,\n",
    "    #'Portfolion Std': annual_std[assets]* percent_weight,\n",
    "    'Beta against SPY': [calc_beta(data[ticker].pct_change().dropna(), data['SPY'].pct_change().dropna()) for ticker in assets],\n",
    "    'Beta against IWM': [calc_beta(data[ticker].pct_change().dropna(), data['IWM'].pct_change().dropna()) for ticker in assets],\n",
    "    'Beta against DIA': [calc_beta(data[ticker].pct_change().dropna(), data['DIA'].pct_change().dropna()) for ticker in assets],\n",
    "    'Avg Weekly Drawdown': avg_weekly_drawdown,\n",
    "    'Max Weekly Drawdown': max_weekly_drawdown\n",
    "})\n",
    "\n",
    "portfolio_df.reset_index(drop=True, inplace=True)\n",
    "portfolio_df.index = portfolio_df.index + 1\n",
    "portfolio_df"
   ]
  },
  {
   "cell_type": "code",
   "execution_count": 8,
   "metadata": {},
   "outputs": [
    {
     "name": "stderr",
     "output_type": "stream",
     "text": [
      "[*********************100%***********************]  3 of 3 completed"
     ]
    },
    {
     "name": "stdout",
     "output_type": "stream",
     "text": [
      "        ETF  Correlation  Covariance  Sharpe Ratio  Volatility Spread\n",
      "Ticker                                                               \n",
      "SPY     SPY     1.000000    0.000174      0.049565           0.000000\n",
      "QQQ     QQQ     0.930401    0.000197      0.054925           0.002865\n",
      "IWM     IWM     0.867514    0.000195      0.027689           0.003875\n"
     ]
    },
    {
     "name": "stderr",
     "output_type": "stream",
     "text": [
      "\n"
     ]
    }
   ],
   "source": [
    "etfs = ['SPY', 'QQQ', 'IWM']\n",
    "historical_data = yf.download(etfs, start='2019-09-18', end='2024-09-01')\n",
    "returns = historical_data['Adj Close'].pct_change().dropna()\n",
    "correlation = returns.corr()\n",
    "covariance = returns.cov()\n",
    "#tracking_error = (returns - returns['not sure']).abs().mean()\n",
    "sharpe_ratio = returns.mean() / returns.std()\n",
    "#annualized_volatility = returns.std() * pd.np.sqrt(252)\n",
    "volatility_spread = (returns.std() - returns['SPY'].std()).abs()\n",
    "\n",
    "table = pd.DataFrame({\n",
    "    'ETF': etfs,\n",
    "    'Correlation': correlation.loc['SPY', etfs],\n",
    "    'Covariance': covariance.loc['SPY', etfs],\n",
    "    #'Tracking Error': tracking_error[etfs],\n",
    "    'Sharpe Ratio': sharpe_ratio[etfs],\n",
    "    #'Annualized Volatility': annualized_volatility[etfs],\n",
    "    'Volatility Spread': volatility_spread[etfs],\n",
    "})\n",
    "\n",
    "print(table)"
   ]
  },
  {
   "cell_type": "code",
   "execution_count": 12,
   "metadata": {},
   "outputs": [
    {
     "data": {
      "image/png": "[encoded data removed]",
      "text/plain": [
       "<Figure size 1000x800 with 2 Axes>"
      ]
     },
     "metadata": {},
     "output_type": "display_data"
    }
   ],
   "source": [
    "plt.figure(figsize=(10, 8))\n",
    "sns.heatmap(correlation, annot=True, cmap='YlOrRd', vmin=0, vmax=1)\n",
    "plt.title('Correlation Matrix')\n",
    "plt.tight_layout()\n",
    "\n",
    "plt.show()"
   ]
  }
 ],
 "metadata": {
  "kernelspec": {
   "display_name": "base",
   "language": "python",
   "name": "python3"
  },
  "language_info": {
   "codemirror_mode": {
    "name": "ipython",
    "version": 3
   },
   "file_extension": ".py",
   "mimetype": "text/x-python",
   "name": "python",
   "nbconvert_exporter": "python",
   "pygments_lexer": "ipython3",
   "version": "3.12.4"
  }
 },
 "nbformat": 4,
 "nbformat_minor": 2
}
